{
 "cells": [
  {
   "cell_type": "code",
   "execution_count": 68,
   "id": "ad290327",
   "metadata": {},
   "outputs": [],
   "source": [
    "import requests\n",
    "import json\n",
    "import os\n",
    "import dotenv\n",
    "import pandas as pd"
   ]
  },
  {
   "cell_type": "code",
   "execution_count": 69,
   "id": "f4f9e504",
   "metadata": {},
   "outputs": [
    {
     "name": "stdout",
     "output_type": "stream",
     "text": [
      "Current Working Directory: c:\\Users\\RJR-AS\\Documents\\TextAnalyticsVS\\text_analytics\n"
     ]
    }
   ],
   "source": [
    "print(\"Current Working Directory:\",(os.getcwd()))"
   ]
  },
  {
   "cell_type": "code",
   "execution_count": 70,
   "id": "ba537b17",
   "metadata": {},
   "outputs": [],
   "source": [
    "contentText3=\"\"\"Thor Steel is introducing a new vibranium bread in the market. Thor Steel is new to the bread market. The bread launch will take place in stages, leading up to summer 2025. Thor Steel CEO, Bruce Banner, will be speaking more about the launch at Thor Steel shareholder lunch and launch. There are around 63 firm orders for the upcoming Airbus A350F based on the Airbus A350-900 passenger aircraft. The aircraft had been expected to enter service in 2026, but that has now been pushed back to 2027. Still, expectations are high for the Airbus A350F . Currently, the world is looking forward to the introduction of two new freighters, the Boeing 777X freighter and the Airbus A350F.\n",
    "The A350 has proven a popular platform and one that is well adapted to being used as a freighter. This is in contrast with the Airbus A380, which is poorly designed to function as a freighter. Here is what to know about the orders for the Airbus A350F.\n",
    "\n",
    "Airbus A350F orders\n",
    "Ch-aviation lists that over nine customers have so far ordered 66 Airbus A350F cargo aircraft.\"\"\"\n",
    "\n",
    "\n",
    "contentText2 = \"\"\"GSK and Vir Biotechnology announce United States government agreement to purchase additional supply of sotrovimab, authorised for the early treatment of COVID-19\n",
    "For media and investors only Issued: London, UK and San Francisco, US\n",
    "600,000 additional doses to be supplied to the US Government for distribution in Q1 2022, enabling further access to sotrovimab nationwide\n",
    "Brings total number of doses secured to date through binding agreements to approximately 1.7 million globally\n",
    "Preclinical data generated through both pseudo-virus and live virus testing demonstrate sotrovimab retains activity against all tested SARS-CoV-2 variants of concern including Delta and Omicron\n",
    "GlaxoSmithKline plc (LSE/NYSE: GSK) and Vir Biotechnology, Inc. (Nasdaq: VIR) today announced that the US Government will purchase an additional 600,000 doses of sotrovimab, an investigational monoclonal antibody for the early treatment of COVID-19, enabling further nationwide access to sotrovimab for patients. The additional 600,000 doses will be delivered throughout the first quarter of 2022. This agreement is an amendment to earlier commitments announced with the US Government in November 2021.\n",
    "Including the commitments announced today, GSK and Vir have received binding agreements for the sale of approximately 1.7 million doses of sotrovimab worldwide. In addition, today’s agreement also includes the option for the US government to purchase further additional doses in the second quarter of 2022.\n",
    "Sotrovimab, which was granted Emergency Use Authorization (EUA) by the US Food and Drug Administration (FDA) in May 2021, is an investigational single-dose intravenous (IV) infusion SARS-CoV-2 monoclonal antibody. Under the EUA, sotrovimab can be used for the treatment of mild-to-moderate COVID-19 in adults and paediatric patients (12 years of age and older weighing at least 40 kg) with positive results of direct SARS-CoV-2 viral testing, and who are at high risk for progression to severe COVID-19, including hospitalisation or death.\n",
    "GSK and Vir expect to manufacture approximately 2 million doses globally in the first half of 2022 and additional doses in the second half of the year.\n",
    "Maya Martinez-Davis, President, US Pharmaceuticals, GSK, said: “We are proud to continue to work with the US government to bring sotrovimab to patients who need it, especially as the Omicron variant continues to grow in prevalence across the country. We understand the role we can play in supporting the ongoing pandemic response, and our teams are working with urgency to explore options to expand our supply capacity so we can support more patients in 2022.”\n",
    "George Scangos, PhD, chief executive officer of Vir, said: “As the Omicron variant continues its rapid spread alongside the still prevalent Delta variant, we are pleased to once again work with the US government to provide more access to sotrovimab for people in the US at high risk of progression to severe COVID-19. Data from multiple pseudo-virus and live virus preclinical studies, generated by industry and academia, continue to demonstrate that sotrovimab retains activity against all tested variants of concern and interest. We are proud of our ongoing contributions to the fight against the COVID-19 pandemic here in the US and around the world.”\n",
    "The Biomedical Advanced Research and Development Authority (BARDA), part of the Department of Health and Human Services (HHS) Office of the Assistant Secretary for Preparedness and Response (ASPR), collaborated with the Department of Defense Joint Program Executive Office for Chemical, Biological, Radiological and Nuclear Defense (JPEO-CBRND) and Army Contracting Command to purchase contract numbers W58P0521C0008 and W58P0522C0002.\n",
    "In June 2021, GSK and Vir announced confirmatory full results for the COMET-ICE Phase III trial examining use of sotrovimab for early treatment of mild-to-moderate COVID-19 in high-risk, non-hospitalised adults. The trial met the primary endpoint with a 79% reduction (adjusted relative risk reduction) (p<0.001) in all-cause hospitalisations for more than 24 hours or death due to any cause by Day 29 compared to placebo. In absolute numbers, 30 (6%) of the 529 patients in the placebo arm progressed, compared to six (1%) of the 528 patients receiving sotrovimab. In clinical trials conducted to date, sotrovimab has been well-tolerated. The most common adverse reactions are hypersensitivity and infusion-related reactions, seen in approximately 2% and 1% of cases, respectively.\n",
    "GSK and Vir are committed to the ongoing evaluation of sotrovimab as the COVID-19 landscape continues to evolve at different rates across the globe and new variants of concern and interest emerge. Preclinical pseudo-virus data, published in bioRxiv, demonstrate that sotrovimab retains activity against all tested variants of concern and interest of the SARS-CoV-2 virus as defined by the World Health Organization, including, but not limited to, Omicron (B.1.1.529), Delta (B.1.617.2), Delta Plus (AY.1 or AY.2) and Mu (B.1.621). Preclinical live virus testing has also been completed with data, recently published in bioRxiv, further demonstrating that sotrovimab retains activity against the Omicron variant.\n",
    "About sotrovimab\n",
    "Sotrovimab is an investigational SARS-CoV-2 neutralising monoclonal antibody. The antibody binds to an epitope on SARS-CoV-2 shared with SARS-CoV-1 (the virus that causes SARS), indicating that the epitope is highly conserved, which may make it more difficult for resistance to develop. Sotrovimab, which incorporates Xencor, Inc.’s Xtend™ technology, has also been designed to achieve high concentration in the lungs to ensure optimal penetration into airway tissues affected by SARS-CoV-2 and to have an extended half-life.\"\"\"\n",
    "\n",
    "contentText1= \"\"\" Abbott Labs Lifts FY24 Outlook After 2Q Sales Rise\n",
    "Published: July 18, 2024 at 8:06 a.m. ET\n",
    "By Dean Seal\n",
    "Abbott Laboratories raised its full-year earnings guidance after reporting sales gains in the second quarter from its nutrition and medical devices segments.\n",
    "The Abbott Park, Ill.-based healthcare products company said it now expects earnings of $3.30 to $3.40 a share, adding 5 cents to the lower end of its previous guidance.\n",
    "When adjusted for one-time items, the company expects earnings of $4.61 to $4.71 a share, up from a prior range of $4.55 to $4.70 a share.\n",
    "The company also increased the lower end of its outlook for organic sales growth, excluding Covid-19 testing, to 9.5% from 8.5%.\n",
    "\n",
    "For the second quarter, the Pedialyte maker posted a profit of $1.3 billion, or 74 cents a share, compared with $1.38 billion, or 78 cents a share, in the same quarter a year ago.\n",
    "Adjusted earnings were $1.14 a share, clearing analyst projections by 3 cents, according to FactSet.\n",
    "\n",
    "Sales rose 4% to $10.38 billion, in line with analyst forecasts. The top line grew 7.4% on an organic basis, which excludes foreign currency translations, the discontinuing of its ZonePerfect product line and its acquisition of Cardiovascular Systems.\n",
    "The company's adult nutrition segment performed well thanks to growth of its Ensure nutrition brand, while its diagnostics unit was dented by declines in Covid-19 testing-related sales.\n",
    "\n",
    "Sales in its medical devices business were up more than 10%, led by its Diabetes Care, Electrophysiology, and Structural Heart products.\n",
    "Write to Dean Seal at dean.seal@wsj.com \"\"\"\n",
    "\n",
    "\n",
    "contentText= \"\"\"There are around 63 firm orders for the upcoming Airbus A350F based on the Airbus A350-900 passenger aircraft. The aircraft had been expected to enter service in 2026, but that has now been pushed back to 2027. Still, expectations are high for the Airbus A350F . Currently, the world is looking forward to the introduction of two new freighters, the Boeing 777X freighter and the Airbus A350F.\n",
    "The A350 has proven a popular platform and one that is well adapted to being used as a freighter. This is in contrast with the Airbus A380, which is poorly designed to function as a freighter. Here is what to know about the orders for the Airbus A350F.\n",
    "\n",
    "Airbus A350F orders\n",
    "Ch-aviation lists that over nine customers have so far ordered 66 Airbus A350F cargo aircraft. Perhaps surprisingly, some of the big air freighter companies like DHL and FedEx do not appear to have placed firm orders for the aircraft.\"\"\""
   ]
  },
  {
   "cell_type": "code",
   "execution_count": 71,
   "id": "671e0dda",
   "metadata": {},
   "outputs": [
    {
     "name": "stdout",
     "output_type": "stream",
     "text": [
      "A8gYlKK8krmJ5LIAsAG6CglvchV9cPe4 ##EvgyK text\n"
     ]
    }
   ],
   "source": [
    "#Step 3 get intelligent tagging response from Hosted RIT\n",
    "\n",
    "from dotenv import load_dotenv\n",
    "import os\n",
    "\n",
    "load_dotenv()\n",
    "it_api_key = os.getenv('API_KEY9')\n",
    "\n",
    "## Check if the API key is loaded correctly\n",
    "## otherwise manually add\n",
    "\n",
    "print(it_api_key)\n",
    "\n",
    "url= \"https://api-eit.refinitiv.com/permid/calais\" #endpoint\n",
    "payload = contentText2.encode('utf8')\n",
    "headers = {\n",
    "    'Content-Type': \"text/raw\",\n",
    "    'X-AG-Access-Token': it_api_key, # token called here\n",
    "    'outputformat': \"application/json\",\n",
    "    'x-calais-contentClass': \"news\",\n",
    "    #'x-calais-selectiveTags': \"topic-all, socialtags, industry, Organization, Person, Journalist, Company, Editor \"\n",
    "    }\n",
    "\n",
    "TRITResponse = requests.post(url, data=payload, headers = headers)\n"
   ]
  },
  {
   "cell_type": "code",
   "execution_count": 72,
   "id": "6f6c6f7b",
   "metadata": {},
   "outputs": [
    {
     "name": "stdout",
     "output_type": "stream",
     "text": [
      "{'Date': 'Fri, 08 Aug 2025 17:05:19 GMT', 'Content-Type': 'application/json; charset=utf-8', 'Content-Length': '52', 'Connection': 'keep-alive', 'vary': 'Origin', 'Access-Control-Allow-Credentials': 'true', 'Strict-Transport-Security': 'max-age=31536000'}\n"
     ]
    }
   ],
   "source": [
    "print(TRITResponse.headers)"
   ]
  },
  {
   "cell_type": "code",
   "execution_count": 73,
   "id": "42b9e384",
   "metadata": {},
   "outputs": [
    {
     "name": "stdout",
     "output_type": "stream",
     "text": [
      "{\n",
      "  \"message\":\"Invalid authentication credentials\"\n",
      "}\n"
     ]
    }
   ],
   "source": [
    "print(TRITResponse.text)"
   ]
  },
  {
   "cell_type": "code",
   "execution_count": 74,
   "id": "63fb270a",
   "metadata": {},
   "outputs": [],
   "source": [
    "JSONResponse = json.loads(TRITResponse.text)"
   ]
  },
  {
   "cell_type": "code",
   "execution_count": 75,
   "id": "bfa46e21",
   "metadata": {},
   "outputs": [
    {
     "name": "stdout",
     "output_type": "stream",
     "text": [
      "{\n",
      "    \"message\": \"Invalid authentication credentials\"\n",
      "}\n"
     ]
    }
   ],
   "source": [
    "print(json.dumps(JSONResponse, indent = 4))"
   ]
  },
  {
   "cell_type": "code",
   "execution_count": 76,
   "id": "09965942",
   "metadata": {},
   "outputs": [],
   "source": [
    "res = TRITResponse.json()"
   ]
  },
  {
   "cell_type": "code",
   "execution_count": 77,
   "id": "48bb11ce",
   "metadata": {},
   "outputs": [
    {
     "ename": "AttributeError",
     "evalue": "'str' object has no attribute 'get'",
     "output_type": "error",
     "traceback": [
      "\u001b[31m---------------------------------------------------------------------------\u001b[39m",
      "\u001b[31mAttributeError\u001b[39m                            Traceback (most recent call last)",
      "\u001b[36mCell\u001b[39m\u001b[36m \u001b[39m\u001b[32mIn[77]\u001b[39m\u001b[32m, line 18\u001b[39m\n\u001b[32m     16\u001b[39m \u001b[38;5;66;03m# Categorize based on _typeGroup and _type\u001b[39;00m\n\u001b[32m     17\u001b[39m \u001b[38;5;28;01mfor\u001b[39;00m key, value \u001b[38;5;129;01min\u001b[39;00m res.items():\n\u001b[32m---> \u001b[39m\u001b[32m18\u001b[39m     \u001b[38;5;28;01mif\u001b[39;00m \u001b[43mvalue\u001b[49m\u001b[43m.\u001b[49m\u001b[43mget\u001b[49m(\u001b[33m\"\u001b[39m\u001b[33m_typeGroup\u001b[39m\u001b[33m\"\u001b[39m) == \u001b[33m\"\u001b[39m\u001b[33msocialTag\u001b[39m\u001b[33m\"\u001b[39m:\n\u001b[32m     19\u001b[39m         socialtags.append(value)\n\u001b[32m     20\u001b[39m     \u001b[38;5;28;01melif\u001b[39;00m value.get(\u001b[33m\"\u001b[39m\u001b[33m_typeGroup\u001b[39m\u001b[33m\"\u001b[39m) == \u001b[33m\"\u001b[39m\u001b[33mindustry\u001b[39m\u001b[33m\"\u001b[39m:\n",
      "\u001b[31mAttributeError\u001b[39m: 'str' object has no attribute 'get'"
     ]
    }
   ],
   "source": [
    "#import json\n",
    "#import pandas as pd\n",
    "\n",
    "# Load the JSON data \n",
    "#file_path = \"/mnt/data/updatedtest.json\"\n",
    "#with open(file_path, \"r\", encoding=\"utf-8\") as file:\n",
    "#    data = json.load(file)\n",
    "\n",
    "# Prepare lists to collect categorized entries\n",
    "socialtags = []\n",
    "industries = []\n",
    "companies = []\n",
    "persons = []\n",
    "topics =[]\n",
    "\n",
    "# Categorize based on _typeGroup and _type\n",
    "for key, value in res.items():\n",
    "    if value.get(\"_typeGroup\") == \"socialTag\":\n",
    "        socialtags.append(value)\n",
    "    elif value.get(\"_typeGroup\") == \"industry\":\n",
    "        industries.append(value)\n",
    "    elif value.get(\"_typeGroup\") == \"topics\":\n",
    "        topics.append(value)\n",
    "    elif value.get(\"_typeGroup\") == \"entities\":\n",
    "        if value.get(\"_type\") == \"Company\":\n",
    "            companies.append(value)\n",
    "        elif value.get(\"_type\") == \"Person\":\n",
    "            persons.append(value)\n",
    "\n",
    "# Convert each list into a DataFrame\n",
    "df_socialtags = pd.DataFrame(socialtags)\n",
    "df_industries = pd.DataFrame(industries)\n",
    "df_companies = pd.DataFrame(companies)\n",
    "df_persons = pd.DataFrame(persons)\n",
    "df_topics = pd.DataFrame(topics)\n",
    "\n"
   ]
  },
  {
   "cell_type": "code",
   "execution_count": null,
   "id": "b7fcb875",
   "metadata": {},
   "outputs": [],
   "source": [
    "def pretty_print(df, col_widths=None, headers=True):\n",
    "    \"\"\"\n",
    "    Pretty-print a pandas DataFrame with left-aligned columns in the console.\n",
    "\n",
    "    Args:\n",
    "        df (pd.DataFrame): The DataFrame to print.\n",
    "        col_widths (dict): Optional dict to set column widths. Example: {'name': 30, 'importance': 10}\n",
    "        headers (bool): Whether to print headers or not.\n",
    "    \"\"\"\n",
    "    if col_widths is None:\n",
    "        # Default widths: auto-set based on longest entry in each column or 15\n",
    "        col_widths = {\n",
    "            col: max(df[col].astype(str).map(len).max(), len(str(col)), 15)\n",
    "            for col in df.columns\n",
    "        }\n",
    "\n",
    "    # Format string builder\n",
    "    fmt = \"  \".join([f\"{{:<{col_widths[col]}}}\" for col in df.columns])\n",
    "\n",
    "    # Print headers\n",
    "    if headers:\n",
    "        print(fmt.format(*df.columns))\n",
    "        print(\"-\" * (sum(col_widths.values()) + 2 * (len(col_widths) - 1)))\n",
    "\n",
    "    # Print rows\n",
    "    for _, row in df.iterrows():\n",
    "        print(fmt.format(*[str(row[col]) for col in df.columns]))\n"
   ]
  },
  {
   "cell_type": "code",
   "execution_count": null,
   "id": "b1bd9a1e",
   "metadata": {},
   "outputs": [
    {
     "name": "stdout",
     "output_type": "stream",
     "text": [
      "name                            importance     \n",
      "-----------------------------------------------\n",
      "COVID-19 drug development       1              \n",
      "Monoclonal antibodies           1              \n",
      "Occupational safety and health  1              \n",
      "Sotrovimab                      2              \n",
      "SARS-CoV-2 Omicron variant      2              \n",
      "SARS-CoV-2 Delta variant        2              \n",
      "COVID-19 pandemic               2              \n",
      "Variants of SARS-CoV-2          2              \n",
      "SARS-CoV-2 Mu variant           2              \n",
      "COVID-19                        2              \n",
      "SARS-CoV-2                      2              \n",
      "Coronavirus spike protein       2              \n"
     ]
    }
   ],
   "source": [
    "#print(df_socialtags)\n",
    "\n",
    "# Extract only the 'name','importance' field from social tags\n",
    "df_socialtags_filtered = df_socialtags[['name', 'importance']].sort_values(by=['importance'],ascending=True)\n",
    "\n",
    "\n",
    "#df_socialtagssorted = df_socialtags_filtered.sort_values(by=['importance'], ascending=False)\n",
    "#tools.display_dataframe_to_user(name=\"Filtered SocialTags\", dataframe=df_socialtags_filtered)\n",
    "#print(df_socialtags_filtered.to_string(index=False,justify='left'))\n",
    "\n",
    "pretty_print(df_socialtags_filtered)"
   ]
  },
  {
   "cell_type": "code",
   "execution_count": null,
   "id": "b45193fc",
   "metadata": {},
   "outputs": [
    {
     "name": "stdout",
     "output_type": "stream",
     "text": [
      "name                                    permid           relevance      \n",
      "------------------------------------------------------------------------\n",
      "Biotechnology & Medical Research (NEC)  4294951265       0.8            \n",
      "Government Administration Activities    1004365576       0.5            \n",
      "Government & Government Finance (NEC)   1004365552       0.2            \n",
      "Bio Therapeutic Drugs                   4294951264       0.2            \n",
      "Pharmaceuticals (NEC)                   4294951272       0.2            \n"
     ]
    }
   ],
   "source": [
    "# Extract 'name', 'permid', 'relevance' fields from industries\n",
    "df_industries_filtered = df_industries[['name', 'permid', 'relevance']].sort_values(by=['relevance'],ascending=False)\n",
    "\n",
    "#tools.display_dataframe_to_user(name=\"Filtered Industries\", dataframe=df_industries_filtered)\n",
    "#print(df_industries_filtered.to_string(index=False,justify='left'))\n",
    "\n",
    "pretty_print(df_industries_filtered)"
   ]
  },
  {
   "cell_type": "code",
   "execution_count": null,
   "id": "f58b8738",
   "metadata": {},
   "outputs": [
    {
     "name": "stdout",
     "output_type": "stream",
     "text": [
      "name                                                    permid           relevance      \n",
      "----------------------------------------------------------------------------------------\n",
      "Vir Biotechnology Inc.                                  5052795509       0.8            \n",
      "US FOOD AND DRUG ADMINISTRATION                         8589934550       0.5            \n",
      "BIOMEDICAL ADVANCED RESEARCH AND DEVELOPMENT AUTHORITY  5064614947       0.2            \n",
      "Xencor Inc.                                             5000456188       0.2            \n",
      "GLAXOSMITHKLINE PLC                                     4295895781       0.2            \n",
      "US Pharmaceuticals                                      4296883011       0.2            \n"
     ]
    }
   ],
   "source": [
    "company_data = []\n",
    "\n",
    "for company in companies:\n",
    "    name = company.get(\"name\")\n",
    "    relevance = company.get(\"relevance\")\n",
    "    resolutions = company.get(\"resolutions\", [])\n",
    "\n",
    "    # Default permid is None unless we find one\n",
    "    permid = None\n",
    "    if isinstance(resolutions, list) and len(resolutions) > 0:\n",
    "        permid = resolutions[0].get(\"permid\")\n",
    "\n",
    "    company_data.append({\n",
    "        \"name\": name,\n",
    "        \"permid\": permid,\n",
    "        \"relevance\": relevance\n",
    "    })\n",
    "\n",
    "# Create a DataFrame from the cleaned-up list\n",
    "df_company_resolved = pd.DataFrame(company_data).sort_values(by=['relevance'],ascending=False)\n",
    "\n",
    "#print(df_company_resolved)\n",
    "pretty_print(df_company_resolved)"
   ]
  },
  {
   "cell_type": "code",
   "execution_count": null,
   "id": "8c90b433",
   "metadata": {},
   "outputs": [
    {
     "name": "stdout",
     "output_type": "stream",
     "text": [
      "name                                                    relevance        confidence_level  permid           RIC              resolution_score\n",
      "---------------------------------------------------------------------------------------------------------------------------------------------\n",
      "Vir Biotechnology Inc.                                  0.8              1.0               5052795509       VIR.OQ           1.0             \n",
      "US FOOD AND DRUG ADMINISTRATION                         0.5              1.0               8589934550       None             1.0             \n",
      "BIOMEDICAL ADVANCED RESEARCH AND DEVELOPMENT AUTHORITY  0.2              1.0               5064614947       None             1.0             \n",
      "Xencor Inc.                                             0.2              1.0               5000456188       XNCR.OQ          1.0             \n",
      "GLAXOSMITHKLINE PLC                                     0.2              1.0               4295895781       GSK.L            0.5524654       \n",
      "US Pharmaceuticals                                      0.2              0.552             4296883011       None             0.11083034      \n"
     ]
    }
   ],
   "source": [
    "company_resolutions = []\n",
    "\n",
    "for company in companies:\n",
    "    name = company.get(\"name\")\n",
    "    relevance = company.get(\"relevance\")\n",
    "    confidence_level = company.get(\"confidencelevel\")\n",
    "    confidence_agg = company.get(\"confidence\", {}).get(\"aggregate\")\n",
    "\n",
    "    resolutions = company.get(\"resolutions\")\n",
    "\n",
    "    if resolutions and isinstance(resolutions, list):\n",
    "        # One row per resolution\n",
    "        for res in resolutions:\n",
    "            company_resolutions.append({\n",
    "                \"name\": name,\n",
    "                \"relevance\": relevance,\n",
    "                \"confidence_level\": confidence_level,\n",
    "                #\"confidence_aggregate\": confidence_agg,\n",
    "                \"permid\": res.get(\"permid\"),\n",
    "                \"RIC\": res.get(\"primaryric\"),\n",
    "                \"resolution_score\": res.get(\"score\")\n",
    "            })\n",
    "    else:  #This part is to handle if no resolutions present. Remove if necessary/still add the company info, with null resolution fields\n",
    "        company_resolutions.append({\n",
    "            \"name\": name,\n",
    "            \"relevance\": relevance,\n",
    "            \"confidence_level\": confidence_level,\n",
    "            #\"confidence_aggregate\": confidence_agg,\n",
    "            \"permid\": None,\n",
    "            \"RIC\": None,\n",
    "            \"resolution_score\": None\n",
    "        })\n",
    "\n",
    "df_company_resolutions = pd.DataFrame(company_resolutions).sort_values(by=['relevance'],ascending=False)\n",
    "pretty_print(df_company_resolutions)"
   ]
  },
  {
   "cell_type": "code",
   "execution_count": null,
   "id": "fa07e003",
   "metadata": {},
   "outputs": [
    {
     "name": "stdout",
     "output_type": "stream",
     "text": [
      "name                 relevance        confidence_level  permid           resolution_score\n",
      "-----------------------------------------------------------------------------------------\n",
      "Maya Martinez-Davis  0.2              0.95              None             nan             \n",
      "George Scangos       0.2              0.975             34415554822      0.86259556      \n"
     ]
    }
   ],
   "source": [
    "# Extract only the 'name' field from person tags\n",
    "\n",
    "person_resolutions = []\n",
    "\n",
    "for person in persons:\n",
    "    name = person.get(\"name\")\n",
    "    relevance = person.get(\"relevance\")\n",
    "    confidence_level = person.get(\"confidencelevel\")\n",
    "    confidence_agg = person.get(\"confidence\", {}).get(\"aggregate\")\n",
    "\n",
    "    resolutions = person.get(\"resolutions\")\n",
    "\n",
    "    if resolutions and isinstance(resolutions, list):\n",
    "        # One row per resolution\n",
    "        for res in resolutions:\n",
    "            person_resolutions.append({\n",
    "                \"name\": name,\n",
    "                \"relevance\": relevance,\n",
    "                \"confidence_level\": confidence_level,\n",
    "                #\"confidence_aggregate\": confidence_agg,\n",
    "                \"permid\": res.get(\"paid\"),\n",
    "                \"resolution_score\": res.get(\"score\")\n",
    "            })\n",
    "    else:\n",
    "        # No resolutions — still add the person info, with null resolution fields\n",
    "        person_resolutions.append({\n",
    "            \"name\": name,\n",
    "            \"relevance\": relevance,\n",
    "            \"confidence_level\": confidence_level,\n",
    "            #\"confidence_aggregate\": confidence_agg,\n",
    "            \"permid\": None,\n",
    "            \"resolution_score\": None\n",
    "        })\n",
    "\n",
    "df_person_resolutions = pd.DataFrame(person_resolutions).sort_values(by=['relevance'],ascending=False)\n",
    "pretty_print(df_person_resolutions)\n",
    "\n"
   ]
  },
  {
   "cell_type": "code",
   "execution_count": null,
   "id": "c3037e41",
   "metadata": {},
   "outputs": [
    {
     "name": "stdout",
     "output_type": "stream",
     "text": [
      "name                                       permid           score          \n",
      "---------------------------------------------------------------------------\n",
      "Health_Medical_Pharma                      nan              1.0            \n",
      "Health / Medicine                          400672           1.0            \n",
      "M_3C1                                      nan              0.963          \n",
      "Press Releases                             1004026377       0.948          \n",
      "Business_Finance                           nan              0.85           \n",
      "Science                                    201099           0.761          \n",
      "Pharmaceuticals & Medical Research (TRBC)  4294952845       0.724          \n",
      "Drug & Device Development                  386025           0.527          \n",
      "Public Health                              386041           0.375          \n"
     ]
    }
   ],
   "source": [
    "# Extract only the 'name' field from topic tags\n",
    "df_topics_filtered = df_topics[['name','permid', 'score']].sort_values(by=['score'],ascending=False)\n",
    "\n",
    "#tools.display_dataframe_to_user(name=\"Filtered SocialTags\", dataframe=df_topic_filtered)\n",
    "#print(df_topics_filtered)\n",
    "pretty_print(df_topics_filtered)"
   ]
  },
  {
   "cell_type": "code",
   "execution_count": null,
   "id": "3a95d176",
   "metadata": {},
   "outputs": [],
   "source": []
  },
  {
   "cell_type": "code",
   "execution_count": null,
   "id": "4075e1ee",
   "metadata": {},
   "outputs": [],
   "source": []
  }
 ],
 "metadata": {
  "kernelspec": {
   "display_name": "Python 3",
   "language": "python",
   "name": "python3"
  },
  "language_info": {
   "codemirror_mode": {
    "name": "ipython",
    "version": 3
   },
   "file_extension": ".py",
   "mimetype": "text/x-python",
   "name": "python",
   "nbconvert_exporter": "python",
   "pygments_lexer": "ipython3",
   "version": "3.13.4"
  }
 },
 "nbformat": 4,
 "nbformat_minor": 5
}
